{
 "cells": [
  {
   "cell_type": "code",
   "execution_count": 1,
   "metadata": {},
   "outputs": [],
   "source": [
    "import numpy as np"
   ]
  },
  {
   "cell_type": "code",
   "execution_count": 5,
   "metadata": {},
   "outputs": [],
   "source": [
    "def Volume(mass, MW, MR):\n",
    "    \"Calculates the appropriate volume of reactive dye in Volume (in μL) to add to sample\"\n",
    "    \n",
    "    Volume = (((mass/MW)*1000)*MR) / 11.3\n",
    "    \n",
    "    return Volume"
   ]
  },
  {
   "cell_type": "code",
   "execution_count": 3,
   "metadata": {},
   "outputs": [
    {
     "name": "stdout",
     "output_type": "stream",
     "text": [
      "Mass of Protein in μg: 60\n",
      "Molecular Weight of protein in Da: 150000\n",
      "Molar Ratio of dye : protein: 55\n"
     ]
    },
    {
     "data": {
      "text/plain": [
       "1.9469026548672566"
      ]
     },
     "execution_count": 3,
     "metadata": {},
     "output_type": "execute_result"
    }
   ],
   "source": [
    "mass = int(input(\"Mass of Protein in μg: \"))\n",
    "MW = int(input(\"Molecular Weight of protein in Da: \"))\n",
    "MR = float(input(\"Molar Ratio of dye : protein: \"))\n",
    "\n",
    "Volume(mass,MW,MR)"
   ]
  },
  {
   "cell_type": "code",
   "execution_count": null,
   "metadata": {},
   "outputs": [],
   "source": []
  }
 ],
 "metadata": {
  "kernelspec": {
   "display_name": "Python 3",
   "language": "python",
   "name": "python3"
  },
  "language_info": {
   "codemirror_mode": {
    "name": "ipython",
    "version": 3
   },
   "file_extension": ".py",
   "mimetype": "text/x-python",
   "name": "python",
   "nbconvert_exporter": "python",
   "pygments_lexer": "ipython3",
   "version": "3.8.5"
  }
 },
 "nbformat": 4,
 "nbformat_minor": 4
}
